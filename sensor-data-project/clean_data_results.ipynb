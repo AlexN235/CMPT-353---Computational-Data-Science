{
  "nbformat": 4,
  "nbformat_minor": 0,
  "metadata": {
    "kernelspec": {
      "display_name": "Python 3",
      "language": "python",
      "name": "python3"
    },
    "language_info": {
      "codemirror_mode": {
        "name": "ipython",
        "version": 3
      },
      "file_extension": ".py",
      "mimetype": "text/x-python",
      "name": "python",
      "nbconvert_exporter": "python",
      "pygments_lexer": "ipython3",
      "version": "3.6.8"
    },
    "colab": {
      "name": "clean_data_results.ipynb",
      "provenance": [],
      "collapsed_sections": []
    }
  },
  "cells": [
    {
      "cell_type": "code",
      "metadata": {
        "colab": {
          "base_uri": "https://localhost:8080/"
        },
        "id": "b0gsodTQlrl-",
        "outputId": "070db01b-6433-4f28-99c3-1d275a2d01ab"
      },
      "source": [
        "!pip install pykalman"
      ],
      "execution_count": 1,
      "outputs": [
        {
          "output_type": "stream",
          "text": [
            "Collecting pykalman\n",
            "\u001b[?25l  Downloading https://files.pythonhosted.org/packages/2f/62/a4adc4516bd5974aa5583090199dd4b78d1e87018d14e9279f72ccbf0b9b/pykalman-0.9.5.tar.gz (228kB)\n",
            "\r\u001b[K     |█▍                              | 10kB 16.3MB/s eta 0:00:01\r\u001b[K     |██▉                             | 20kB 13.8MB/s eta 0:00:01\r\u001b[K     |████▎                           | 30kB 14.4MB/s eta 0:00:01\r\u001b[K     |█████▊                          | 40kB 11.0MB/s eta 0:00:01\r\u001b[K     |███████▏                        | 51kB 8.1MB/s eta 0:00:01\r\u001b[K     |████████▋                       | 61kB 8.3MB/s eta 0:00:01\r\u001b[K     |██████████                      | 71kB 7.4MB/s eta 0:00:01\r\u001b[K     |███████████▌                    | 81kB 7.2MB/s eta 0:00:01\r\u001b[K     |████████████▉                   | 92kB 7.5MB/s eta 0:00:01\r\u001b[K     |██████████████▎                 | 102kB 7.5MB/s eta 0:00:01\r\u001b[K     |███████████████▊                | 112kB 7.5MB/s eta 0:00:01\r\u001b[K     |█████████████████▏              | 122kB 7.5MB/s eta 0:00:01\r\u001b[K     |██████████████████▋             | 133kB 7.5MB/s eta 0:00:01\r\u001b[K     |████████████████████            | 143kB 7.5MB/s eta 0:00:01\r\u001b[K     |█████████████████████▌          | 153kB 7.5MB/s eta 0:00:01\r\u001b[K     |███████████████████████         | 163kB 7.5MB/s eta 0:00:01\r\u001b[K     |████████████████████████▍       | 174kB 7.5MB/s eta 0:00:01\r\u001b[K     |█████████████████████████▊      | 184kB 7.5MB/s eta 0:00:01\r\u001b[K     |███████████████████████████▏    | 194kB 7.5MB/s eta 0:00:01\r\u001b[K     |████████████████████████████▋   | 204kB 7.5MB/s eta 0:00:01\r\u001b[K     |██████████████████████████████  | 215kB 7.5MB/s eta 0:00:01\r\u001b[K     |███████████████████████████████▌| 225kB 7.5MB/s eta 0:00:01\r\u001b[K     |████████████████████████████████| 235kB 7.5MB/s \n",
            "\u001b[?25hBuilding wheels for collected packages: pykalman\n",
            "  Building wheel for pykalman (setup.py) ... \u001b[?25l\u001b[?25hdone\n",
            "  Created wheel for pykalman: filename=pykalman-0.9.5-cp36-none-any.whl size=48464 sha256=1d7ad74f9e8f20f0ff297da51661e2c72da07cd089ebe0d170d0fbc6a05f0877\n",
            "  Stored in directory: /root/.cache/pip/wheels/d9/e8/6a/553d9832679cb74a8434fa597c3abdb07313e40054a0adf9ac\n",
            "Successfully built pykalman\n",
            "Installing collected packages: pykalman\n",
            "Successfully installed pykalman-0.9.5\n"
          ],
          "name": "stdout"
        }
      ]
    },
    {
      "cell_type": "code",
      "metadata": {
        "colab": {
          "base_uri": "https://localhost:8080/"
        },
        "id": "tGSeMWlvlyOk",
        "outputId": "ae3741ea-bfd5-44b3-f131-e13290571d1c"
      },
      "source": [
        "!unzip data.zip"
      ],
      "execution_count": 8,
      "outputs": [
        {
          "output_type": "stream",
          "text": [
            "Archive:  data.zip\n",
            "   creating: data/processed/\n",
            "   creating: data/raw/\n",
            "   creating: data/raw/1/\n",
            "  inflating: data/raw/1/p1-ankle-1.csv  \n",
            "  inflating: data/raw/1/p1-ankle-2.csv  \n",
            "  inflating: data/raw/1/p1-ankle-3.csv  \n",
            "  inflating: data/raw/1/p1-hand-1.csv  \n",
            "  inflating: data/raw/1/p1-hand-2.csv  \n",
            "  inflating: data/raw/1/p1-hand-3.csv  \n",
            "  inflating: data/raw/1/p1-pocket-1.csv  \n",
            "  inflating: data/raw/1/p1-pocket-2.csv  \n",
            "  inflating: data/raw/1/p1-pocket-3.csv  \n",
            "   creating: data/raw/2/\n",
            "  inflating: data/raw/2/p2-ankle-1.csv  \n",
            "  inflating: data/raw/2/p2-ankle-2.csv  \n",
            "  inflating: data/raw/2/p2-ankle-3.csv  \n",
            "  inflating: data/raw/2/p2-hand-1.csv  \n",
            "  inflating: data/raw/2/p2-hand-2.csv  \n",
            "  inflating: data/raw/2/p2-hand-3.csv  \n",
            "  inflating: data/raw/2/p2-pocket-1.csv  \n",
            "  inflating: data/raw/2/p2-pocket-2.csv  \n",
            "  inflating: data/raw/2/p2-pocket-3.csv  \n",
            "   creating: data/raw/3-left/\n",
            "  inflating: data/raw/3-left/Jordan_ankle_left_1.csv  \n",
            "  inflating: data/raw/3-left/Jordan_ankle_left_2.csv  \n",
            "  inflating: data/raw/3-left/Jordan_ankle_left_3.csv  \n",
            "  inflating: data/raw/3-left/Jordan_hand_left_1.csv  \n",
            "  inflating: data/raw/3-left/Jordan_hand_left_2.csv  \n",
            "  inflating: data/raw/3-left/Jordan_hand_left_3.csv  \n",
            "  inflating: data/raw/3-left/Jordan_pocket_left_1.csv  \n",
            "  inflating: data/raw/3-left/Jordan_pocket_left_2.csv  \n",
            "  inflating: data/raw/3-left/Jordan_pocket_left_3.csv  \n",
            "   creating: data/raw/3-right/\n",
            "  inflating: data/raw/3-right/Jordan_ankle_right_1.csv  \n",
            "  inflating: data/raw/3-right/Jordan_ankle_right_2.csv  \n",
            "  inflating: data/raw/3-right/Jordan_ankle_right_3.csv  \n",
            "  inflating: data/raw/3-right/Jordan_hand_right_1.csv  \n",
            "  inflating: data/raw/3-right/Jordan_hand_right_2.csv  \n",
            "  inflating: data/raw/3-right/Jordan_hand_right_3.csv  \n",
            "  inflating: data/raw/3-right/Jordan_pocket_right_1.csv  \n",
            "  inflating: data/raw/3-right/Jordan_pocket_right_2.csv  \n",
            "  inflating: data/raw/3-right/Jordan_pocket_right_3.csv  \n"
          ],
          "name": "stdout"
        }
      ]
    },
    {
      "cell_type": "code",
      "metadata": {
        "id": "I6x_P0D7wpOY"
      },
      "source": [
        "import sys\n",
        "import pandas as pd\n",
        "import numpy as np\n",
        "import matplotlib.pyplot as plt\n",
        "from pykalman import KalmanFilter\n",
        "from datetime import datetime\n",
        "import glob\n",
        "# from statsmodels.nonparametric.smoothers_lowess import lowess"
      ],
      "execution_count": 2,
      "outputs": []
    },
    {
      "cell_type": "code",
      "metadata": {
        "id": "V84H3m5SwpOg"
      },
      "source": [
        "def to_float(x):\n",
        "    return float(x)"
      ],
      "execution_count": 3,
      "outputs": []
    },
    {
      "cell_type": "code",
      "metadata": {
        "id": "ExETS-t6wpOh"
      },
      "source": [
        "def get_csv(filename):\n",
        "    column_name = ['time', 'x_accel', 'y_accel', 'z_accel']\n",
        "    raw_data = pd.read_csv(filename, names=column_name, header=None) \n",
        "    raw_data = raw_data.drop(0)\n",
        "    raw_data['time'] = raw_data['time'].apply(to_timestamp)\n",
        "    raw_data['time'] = raw_data['time']-raw_data['time'][1]\n",
        "    raw_data['x_accel'] = raw_data['x_accel'].apply(to_float)\n",
        "    raw_data['y_accel'] = raw_data['y_accel'].apply(to_float)\n",
        "    raw_data['z_accel'] = raw_data['z_accel'].apply(to_float)\n",
        "    \n",
        "    return raw_data"
      ],
      "execution_count": 4,
      "outputs": []
    },
    {
      "cell_type": "code",
      "metadata": {
        "id": "93KJLh6JwpOh"
      },
      "source": [
        "def to_timestamp(x):\n",
        "    x = datetime.strptime(x, '%Y-%m-%d %H:%M:%S.%f')\n",
        "    return datetime.timestamp(x)"
      ],
      "execution_count": 5,
      "outputs": []
    },
    {
      "cell_type": "code",
      "metadata": {
        "id": "BHYHj07LsSHO"
      },
      "source": [
        "def extract_features(raw_data):\r\n",
        "  raw_data = raw_data[raw_data['time'] < 30]\r\n",
        "  mean = raw_data.mean().tolist()\r\n",
        "  std = raw_data.std().tolist()\r\n",
        "  return mean, std"
      ],
      "execution_count": 27,
      "outputs": []
    },
    {
      "cell_type": "code",
      "metadata": {
        "id": "fi0uSBwFwpOi"
      },
      "source": [
        "def process_data(input_file_dir, output_dir ,tester_num):\n",
        "  mean_frames = []\n",
        "  std_frames = []\n",
        "  fileNames = sorted(glob.glob(input_file_dir + '*'))\n",
        "  for name in fileNames:\n",
        "    raw_data = get_csv(name)\n",
        "    mean, std = extract_features(raw_data)\n",
        "    mean_frames.append(mean)\n",
        "    std_frames.append(std)\n",
        "\n",
        "  output_file = output_dir + 'p' + tester_num\n",
        "  col = ['time', 'x_accel', 'y_accel', 'z_accel']\n",
        "  results_mean = pd.DataFrame(mean_frames, columns=col)\n",
        "  results_std = pd.DataFrame(std_frames, columns=col)\n",
        "  results_mean['tester'] = 3\n",
        "  results_std['tester'] = 3\n",
        "\n",
        "  # output to .csv files.\n",
        "  results_mean.to_csv(output_file + \"-mean.csv\")\n",
        "  results_std.to_csv(output_file + \"-std.csv\")"
      ],
      "execution_count": 30,
      "outputs": []
    },
    {
      "cell_type": "code",
      "metadata": {
        "id": "cceVBRqdwpOj"
      },
      "source": [
        "file_loc_left = \"data/raw/3-left/\"\n",
        "file_loc_right = \"data/raw/3-right/\"\n",
        "\n",
        "output_dir = \"data/processed/\"\n",
        "output_dir_right = \"data/processed/right/\"\n",
        "\n",
        "process_data(file_loc_left, output_dir, '3')\n",
        "\n",
        "# Saving a second csv to see if we can accuratly predict which side the phone is on\n",
        "process_data(file_loc_right, output_dir_right, '3')\n"
      ],
      "execution_count": 33,
      "outputs": []
    }
  ]
}